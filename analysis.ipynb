{
 "cells": [
  {
   "cell_type": "code",
   "execution_count": 3,
   "id": "49efa277",
   "metadata": {},
   "outputs": [
    {
     "name": "stdout",
     "output_type": "stream",
     "text": [
      "Headers: ['', 'person', 'lang', 'z1000t', 'z0t', 'z1000mem', 'stmtL', 'z1000rel', 'm1000rel', 'whours', 'caps']\n",
      "['0', 's018', 'c', '0.017', '0.017', '22432', '16.1', '98.1', '96.8', '16.1', '??']\n",
      "['1', 's030', 'C', '', '0.033', '16968', '4.0', '76.47', '92.1', '4.0', '??']\n",
      "['2', 's036', 'c', '20.9', '0.0', '11440', '8.2', '0.0', '89.5', '8.2', '??']\n",
      "['3', 's066', 'C', '0.75', '0.467', '2952', '7.3', '98.48', '100.0', '7.3', '??']\n",
      "['4', 's078', 'c', '0.05', '0.05', '22496', '10.9', '99.24', '98.4', '10.9', '??']\n"
     ]
    }
   ],
   "source": [
    "import csv\n",
    "\n",
    "filename = \"assignment_3_dataset.csv\"\n",
    "\n",
    "with open(filename, newline='', encoding='utf-8') as csvfile:\n",
    "    reader = csv.reader(csvfile)\n",
    "    header = next(reader)  # Read the header row\n",
    "    print(\"Headers:\", header)\n",
    "    \n",
    "    # Print first 5 rows\n",
    "    for i, row in enumerate(reader):\n",
    "        print(row)\n",
    "        if i == 4:  # Stop after 5 rows\n",
    "            break"
   ]
  },
  {
   "cell_type": "code",
   "execution_count": null,
   "id": "a91db3b5",
   "metadata": {},
   "outputs": [],
   "source": []
  }
 ],
 "metadata": {
  "kernelspec": {
   "display_name": "Python 3",
   "language": "python",
   "name": "python3"
  },
  "language_info": {
   "codemirror_mode": {
    "name": "ipython",
    "version": 3
   },
   "file_extension": ".py",
   "mimetype": "text/x-python",
   "name": "python",
   "nbconvert_exporter": "python",
   "pygments_lexer": "ipython3",
   "version": "3.13.3"
  }
 },
 "nbformat": 4,
 "nbformat_minor": 5
}

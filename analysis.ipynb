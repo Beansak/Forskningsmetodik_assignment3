{
 "cells": [
  {
   "cell_type": "code",
   "execution_count": 35,
   "execution_count": 3,
   "id": "49efa277",
   "metadata": {},
   "outputs": [
    {
     "name": "stdout",
     "output_type": "stream",
     "text": [
      "Headers: ['', 'person', 'lang', 'z1000t', 'z0t', 'z1000mem', 'stmtL', 'z1000rel', 'm1000rel', 'whours', 'caps']\n",
      "['0', 's018', 'c', '0.017', '0.017', '22432', '16.1', '98.1', '96.8', '16.1', '??']\n",
      "['1', 's030', 'C', '', '0.033', '16968', '4.0', '76.47', '92.1', '4.0', '??']\n",
      "['2', 's036', 'c', '20.9', '0.0', '11440', '8.2', '0.0', '89.5', '8.2', '??']\n",
      "['3', 's066', 'C', '0.75', '0.467', '2952', '7.3', '98.48', '100.0', '7.3', '??']\n",
      "['4', 's078', 'c', '0.05', '0.05', '22496', '10.9', '99.24', '98.4', '10.9', '??']\n"
     ]
    }
   ],
   "source": [
    "import csv\n",
    "\n",
    "filename = \"assignment_3_dataset.csv\"\n",
    "\n",
    "with open(filename, newline='', encoding='utf-8') as csvfile:\n",
    "    reader = csv.reader(csvfile)\n",
    "    header = next(reader)  # Read the header row\n",
    "    print(\"Headers:\", header)\n",
    "    \n",
    "    # Print first 5 rows\n",
    "    for i, row in enumerate(reader):\n",
    "        print(row)\n",
    "        if i == 4:  # Stop after 5 rows\n",
    "            break"
   ]
  },
  {
   "cell_type": "code",
   "execution_count": 36,
   "execution_count": null,
   "id": "ca6d3a1a",
   "metadata": {},
   "outputs": [
    {
     "data": {
      "text/html": [
       "<style type=\"text/css\">\n",
       "#T_c796a th {\n",
       "  border: 1px solid black;\n",
       "}\n",
       "#T_c796a td {\n",
       "  border: 1px solid gray;\n",
       "}\n",
       "</style>\n",
       "<table id=\"T_c796a\">\n",
       "  <thead>\n",
       "    <tr>\n",
       "      <th class=\"blank level0\" >&nbsp;</th>\n",
       "      <th id=\"T_c796a_level0_col0\" class=\"col_heading level0 col0\" >Unnamed: 0</th>\n",
       "      <th id=\"T_c796a_level0_col1\" class=\"col_heading level0 col1\" >person</th>\n",
       "      <th id=\"T_c796a_level0_col2\" class=\"col_heading level0 col2\" >lang</th>\n",
       "      <th id=\"T_c796a_level0_col3\" class=\"col_heading level0 col3\" >z1000t</th>\n",
       "      <th id=\"T_c796a_level0_col4\" class=\"col_heading level0 col4\" >z0t</th>\n",
       "      <th id=\"T_c796a_level0_col5\" class=\"col_heading level0 col5\" >z1000mem</th>\n",
       "      <th id=\"T_c796a_level0_col6\" class=\"col_heading level0 col6\" >stmtL</th>\n",
       "      <th id=\"T_c796a_level0_col7\" class=\"col_heading level0 col7\" >z1000rel</th>\n",
       "      <th id=\"T_c796a_level0_col8\" class=\"col_heading level0 col8\" >m1000rel</th>\n",
       "      <th id=\"T_c796a_level0_col9\" class=\"col_heading level0 col9\" >whours</th>\n",
       "      <th id=\"T_c796a_level0_col10\" class=\"col_heading level0 col10\" >caps</th>\n",
       "    </tr>\n",
       "  </thead>\n",
       "  <tbody>\n",
       "    <tr>\n",
       "      <th id=\"T_c796a_level0_row0\" class=\"row_heading level0 row0\" >0</th>\n",
       "      <td id=\"T_c796a_row0_col0\" class=\"data row0 col0\" >0</td>\n",
       "      <td id=\"T_c796a_row0_col1\" class=\"data row0 col1\" >s018</td>\n",
       "      <td id=\"T_c796a_row0_col2\" class=\"data row0 col2\" >c</td>\n",
       "      <td id=\"T_c796a_row0_col3\" class=\"data row0 col3\" >0.017000</td>\n",
       "      <td id=\"T_c796a_row0_col4\" class=\"data row0 col4\" >0.017000</td>\n",
       "      <td id=\"T_c796a_row0_col5\" class=\"data row0 col5\" >22432</td>\n",
       "      <td id=\"T_c796a_row0_col6\" class=\"data row0 col6\" >16.100000</td>\n",
       "      <td id=\"T_c796a_row0_col7\" class=\"data row0 col7\" >98.100000</td>\n",
       "      <td id=\"T_c796a_row0_col8\" class=\"data row0 col8\" >96.800000</td>\n",
       "      <td id=\"T_c796a_row0_col9\" class=\"data row0 col9\" >16.100000</td>\n",
       "      <td id=\"T_c796a_row0_col10\" class=\"data row0 col10\" >??</td>\n",
       "    </tr>\n",
       "    <tr>\n",
       "      <th id=\"T_c796a_level0_row1\" class=\"row_heading level0 row1\" >1</th>\n",
       "      <td id=\"T_c796a_row1_col0\" class=\"data row1 col0\" >1</td>\n",
       "      <td id=\"T_c796a_row1_col1\" class=\"data row1 col1\" >s030</td>\n",
       "      <td id=\"T_c796a_row1_col2\" class=\"data row1 col2\" >C</td>\n",
       "      <td id=\"T_c796a_row1_col3\" class=\"data row1 col3\" >nan</td>\n",
       "      <td id=\"T_c796a_row1_col4\" class=\"data row1 col4\" >0.033000</td>\n",
       "      <td id=\"T_c796a_row1_col5\" class=\"data row1 col5\" >16968</td>\n",
       "      <td id=\"T_c796a_row1_col6\" class=\"data row1 col6\" >4.000000</td>\n",
       "      <td id=\"T_c796a_row1_col7\" class=\"data row1 col7\" >76.470000</td>\n",
       "      <td id=\"T_c796a_row1_col8\" class=\"data row1 col8\" >92.100000</td>\n",
       "      <td id=\"T_c796a_row1_col9\" class=\"data row1 col9\" >4.000000</td>\n",
       "      <td id=\"T_c796a_row1_col10\" class=\"data row1 col10\" >??</td>\n",
       "    </tr>\n",
       "    <tr>\n",
       "      <th id=\"T_c796a_level0_row2\" class=\"row_heading level0 row2\" >2</th>\n",
       "      <td id=\"T_c796a_row2_col0\" class=\"data row2 col0\" >2</td>\n",
       "      <td id=\"T_c796a_row2_col1\" class=\"data row2 col1\" >s036</td>\n",
       "      <td id=\"T_c796a_row2_col2\" class=\"data row2 col2\" >c</td>\n",
       "      <td id=\"T_c796a_row2_col3\" class=\"data row2 col3\" >20.900000</td>\n",
       "      <td id=\"T_c796a_row2_col4\" class=\"data row2 col4\" >0.000000</td>\n",
       "      <td id=\"T_c796a_row2_col5\" class=\"data row2 col5\" >11440</td>\n",
       "      <td id=\"T_c796a_row2_col6\" class=\"data row2 col6\" >8.200000</td>\n",
       "      <td id=\"T_c796a_row2_col7\" class=\"data row2 col7\" >0.000000</td>\n",
       "      <td id=\"T_c796a_row2_col8\" class=\"data row2 col8\" >89.500000</td>\n",
       "      <td id=\"T_c796a_row2_col9\" class=\"data row2 col9\" >8.200000</td>\n",
       "      <td id=\"T_c796a_row2_col10\" class=\"data row2 col10\" >??</td>\n",
       "    </tr>\n",
       "    <tr>\n",
       "      <th id=\"T_c796a_level0_row3\" class=\"row_heading level0 row3\" >3</th>\n",
       "      <td id=\"T_c796a_row3_col0\" class=\"data row3 col0\" >3</td>\n",
       "      <td id=\"T_c796a_row3_col1\" class=\"data row3 col1\" >s066</td>\n",
       "      <td id=\"T_c796a_row3_col2\" class=\"data row3 col2\" >C</td>\n",
       "      <td id=\"T_c796a_row3_col3\" class=\"data row3 col3\" >0.750000</td>\n",
       "      <td id=\"T_c796a_row3_col4\" class=\"data row3 col4\" >0.467000</td>\n",
       "      <td id=\"T_c796a_row3_col5\" class=\"data row3 col5\" >2952</td>\n",
       "      <td id=\"T_c796a_row3_col6\" class=\"data row3 col6\" >7.300000</td>\n",
       "      <td id=\"T_c796a_row3_col7\" class=\"data row3 col7\" >98.480000</td>\n",
       "      <td id=\"T_c796a_row3_col8\" class=\"data row3 col8\" >100.000000</td>\n",
       "      <td id=\"T_c796a_row3_col9\" class=\"data row3 col9\" >7.300000</td>\n",
       "      <td id=\"T_c796a_row3_col10\" class=\"data row3 col10\" >??</td>\n",
       "    </tr>\n",
       "    <tr>\n",
       "      <th id=\"T_c796a_level0_row4\" class=\"row_heading level0 row4\" >4</th>\n",
       "      <td id=\"T_c796a_row4_col0\" class=\"data row4 col0\" >4</td>\n",
       "      <td id=\"T_c796a_row4_col1\" class=\"data row4 col1\" >s078</td>\n",
       "      <td id=\"T_c796a_row4_col2\" class=\"data row4 col2\" >c</td>\n",
       "      <td id=\"T_c796a_row4_col3\" class=\"data row4 col3\" >0.050000</td>\n",
       "      <td id=\"T_c796a_row4_col4\" class=\"data row4 col4\" >0.050000</td>\n",
       "      <td id=\"T_c796a_row4_col5\" class=\"data row4 col5\" >22496</td>\n",
       "      <td id=\"T_c796a_row4_col6\" class=\"data row4 col6\" >10.900000</td>\n",
       "      <td id=\"T_c796a_row4_col7\" class=\"data row4 col7\" >99.240000</td>\n",
       "      <td id=\"T_c796a_row4_col8\" class=\"data row4 col8\" >98.400000</td>\n",
       "      <td id=\"T_c796a_row4_col9\" class=\"data row4 col9\" >10.900000</td>\n",
       "      <td id=\"T_c796a_row4_col10\" class=\"data row4 col10\" >??</td>\n",
       "    </tr>\n",
       "    <tr>\n",
       "      <th id=\"T_c796a_level0_row5\" class=\"row_heading level0 row5\" >5</th>\n",
       "      <td id=\"T_c796a_row5_col0\" class=\"data row5 col0\" >5</td>\n",
       "      <td id=\"T_c796a_row5_col1\" class=\"data row5 col1\" >s015</td>\n",
       "      <td id=\"T_c796a_row5_col2\" class=\"data row5 col2\" >c++</td>\n",
       "      <td id=\"T_c796a_row5_col3\" class=\"data row5 col3\" >0.050000</td>\n",
       "      <td id=\"T_c796a_row5_col4\" class=\"data row5 col4\" >0.050000</td>\n",
       "      <td id=\"T_c796a_row5_col5\" class=\"data row5 col5\" >24616</td>\n",
       "      <td id=\"T_c796a_row5_col6\" class=\"data row5 col6\" >11.200000</td>\n",
       "      <td id=\"T_c796a_row5_col7\" class=\"data row5 col7\" >99.240000</td>\n",
       "      <td id=\"T_c796a_row5_col8\" class=\"data row5 col8\" >100.000000</td>\n",
       "      <td id=\"T_c796a_row5_col9\" class=\"data row5 col9\" >11.200000</td>\n",
       "      <td id=\"T_c796a_row5_col10\" class=\"data row5 col10\" >??</td>\n",
       "    </tr>\n",
       "    <tr>\n",
       "      <th id=\"T_c796a_level0_row6\" class=\"row_heading level0 row6\" >6</th>\n",
       "      <td id=\"T_c796a_row6_col0\" class=\"data row6 col0\" >6</td>\n",
       "      <td id=\"T_c796a_row6_col1\" class=\"data row6 col1\" >s020</td>\n",
       "      <td id=\"T_c796a_row6_col2\" class=\"data row6 col2\" >C++</td>\n",
       "      <td id=\"T_c796a_row6_col3\" class=\"data row6 col3\" >1.983000</td>\n",
       "      <td id=\"T_c796a_row6_col4\" class=\"data row6 col4\" >0.550000</td>\n",
       "      <td id=\"T_c796a_row6_col5\" class=\"data row6 col5\" >6384</td>\n",
       "      <td id=\"T_c796a_row6_col6\" class=\"data row6 col6\" >3.000000</td>\n",
       "      <td id=\"T_c796a_row6_col7\" class=\"data row6 col7\" >98.480000</td>\n",
       "      <td id=\"T_c796a_row6_col8\" class=\"data row6 col8\" >98.400000</td>\n",
       "      <td id=\"T_c796a_row6_col9\" class=\"data row6 col9\" >3.000000</td>\n",
       "      <td id=\"T_c796a_row6_col10\" class=\"data row6 col10\" >??</td>\n",
       "    </tr>\n",
       "    <tr>\n",
       "      <th id=\"T_c796a_level0_row7\" class=\"row_heading level0 row7\" >7</th>\n",
       "      <td id=\"T_c796a_row7_col0\" class=\"data row7 col0\" >7</td>\n",
       "      <td id=\"T_c796a_row7_col1\" class=\"data row7 col1\" >s021</td>\n",
       "      <td id=\"T_c796a_row7_col2\" class=\"data row7 col2\" >c++</td>\n",
       "      <td id=\"T_c796a_row7_col3\" class=\"data row7 col3\" >4.867000</td>\n",
       "      <td id=\"T_c796a_row7_col4\" class=\"data row7 col4\" >0.017000</td>\n",
       "      <td id=\"T_c796a_row7_col5\" class=\"data row7 col5\" >5312</td>\n",
       "      <td id=\"T_c796a_row7_col6\" class=\"data row7 col6\" >nan</td>\n",
       "      <td id=\"T_c796a_row7_col7\" class=\"data row7 col7\" >100.000000</td>\n",
       "      <td id=\"T_c796a_row7_col8\" class=\"data row7 col8\" >98.400000</td>\n",
       "      <td id=\"T_c796a_row7_col9\" class=\"data row7 col9\" >nan</td>\n",
       "      <td id=\"T_c796a_row7_col10\" class=\"data row7 col10\" >??</td>\n",
       "    </tr>\n",
       "    <tr>\n",
       "      <th id=\"T_c796a_level0_row8\" class=\"row_heading level0 row8\" >8</th>\n",
       "      <td id=\"T_c796a_row8_col0\" class=\"data row8 col0\" >8</td>\n",
       "      <td id=\"T_c796a_row8_col1\" class=\"data row8 col1\" >s025</td>\n",
       "      <td id=\"T_c796a_row8_col2\" class=\"data row8 col2\" >c++</td>\n",
       "      <td id=\"T_c796a_row8_col3\" class=\"data row8 col3\" >0.083000</td>\n",
       "      <td id=\"T_c796a_row8_col4\" class=\"data row8 col4\" >0.083000</td>\n",
       "      <td id=\"T_c796a_row8_col5\" class=\"data row8 col5\" >28568</td>\n",
       "      <td id=\"T_c796a_row8_col6\" class=\"data row8 col6\" >3.500000</td>\n",
       "      <td id=\"T_c796a_row8_col7\" class=\"data row8 col7\" >99.240000</td>\n",
       "      <td id=\"T_c796a_row8_col8\" class=\"data row8 col8\" >98.400000</td>\n",
       "      <td id=\"T_c796a_row8_col9\" class=\"data row8 col9\" >3.500000</td>\n",
       "      <td id=\"T_c796a_row8_col10\" class=\"data row8 col10\" >??</td>\n",
       "    </tr>\n",
       "    <tr>\n",
       "      <th id=\"T_c796a_level0_row9\" class=\"row_heading level0 row9\" >9</th>\n",
       "      <td id=\"T_c796a_row9_col0\" class=\"data row9 col0\" >9</td>\n",
       "      <td id=\"T_c796a_row9_col1\" class=\"data row9 col1\" >s027</td>\n",
       "      <td id=\"T_c796a_row9_col2\" class=\"data row9 col2\" >c++</td>\n",
       "      <td id=\"T_c796a_row9_col3\" class=\"data row9 col3\" >1.533000</td>\n",
       "      <td id=\"T_c796a_row9_col4\" class=\"data row9 col4\" >0.000000</td>\n",
       "      <td id=\"T_c796a_row9_col5\" class=\"data row9 col5\" >3472</td>\n",
       "      <td id=\"T_c796a_row9_col6\" class=\"data row9 col6\" >25.300000</td>\n",
       "      <td id=\"T_c796a_row9_col7\" class=\"data row9 col7\" >98.090000</td>\n",
       "      <td id=\"T_c796a_row9_col8\" class=\"data row9 col8\" >100.000000</td>\n",
       "      <td id=\"T_c796a_row9_col9\" class=\"data row9 col9\" >25.300000</td>\n",
       "      <td id=\"T_c796a_row9_col10\" class=\"data row9 col10\" >??</td>\n",
       "    </tr>\n",
       "  </tbody>\n",
       "</table>\n"
      ],
      "text/plain": [
       "<pandas.io.formats.style.Styler at 0x216f91e7b50>"
      ]
     },
     "metadata": {},
     "output_type": "display_data"
     "ename": "AttributeError",
     "evalue": "'function' object has no attribute 'style'",
     "output_type": "error",
     "traceback": [
      "\u001b[31m---------------------------------------------------------------------------\u001b[39m",
      "\u001b[31mAttributeError\u001b[39m                            Traceback (most recent call last)",
      "\u001b[36mCell\u001b[39m\u001b[36m \u001b[39m\u001b[32mIn[4]\u001b[39m\u001b[32m, line 8\u001b[39m\n\u001b[32m      5\u001b[39m \u001b[38;5;66;03m# Display all rows nicely\u001b[39;00m\n\u001b[32m      6\u001b[39m \u001b[38;5;28;01mfrom\u001b[39;00m\u001b[38;5;250m \u001b[39m\u001b[34;01mIPython\u001b[39;00m\u001b[34;01m.\u001b[39;00m\u001b[34;01mdisplay\u001b[39;00m\u001b[38;5;250m \u001b[39m\u001b[38;5;28;01mimport\u001b[39;00m display\n\u001b[32m      7\u001b[39m display(\n\u001b[32m----> \u001b[39m\u001b[32m8\u001b[39m     \u001b[43mdf\u001b[49m\u001b[43m.\u001b[49m\u001b[43mhead\u001b[49m\u001b[43m.\u001b[49m\u001b[43mstyle\u001b[49m.set_table_styles([\n\u001b[32m      9\u001b[39m         {\u001b[33m'\u001b[39m\u001b[33mselector\u001b[39m\u001b[33m'\u001b[39m: \u001b[33m'\u001b[39m\u001b[33mth\u001b[39m\u001b[33m'\u001b[39m, \u001b[33m'\u001b[39m\u001b[33mprops\u001b[39m\u001b[33m'\u001b[39m: [(\u001b[33m'\u001b[39m\u001b[33mborder\u001b[39m\u001b[33m'\u001b[39m, \u001b[33m'\u001b[39m\u001b[33m1px solid black\u001b[39m\u001b[33m'\u001b[39m)]},\n\u001b[32m     10\u001b[39m         {\u001b[33m'\u001b[39m\u001b[33mselector\u001b[39m\u001b[33m'\u001b[39m: \u001b[33m'\u001b[39m\u001b[33mtd\u001b[39m\u001b[33m'\u001b[39m, \u001b[33m'\u001b[39m\u001b[33mprops\u001b[39m\u001b[33m'\u001b[39m: [(\u001b[33m'\u001b[39m\u001b[33mborder\u001b[39m\u001b[33m'\u001b[39m, \u001b[33m'\u001b[39m\u001b[33m1px solid gray\u001b[39m\u001b[33m'\u001b[39m)]}\n\u001b[32m     11\u001b[39m     ])\n\u001b[32m     12\u001b[39m )\n",
      "\u001b[31mAttributeError\u001b[39m: 'function' object has no attribute 'style'"
     ]
    }
   ],
   "source": [
    "import pandas as pd\n",
    "\n",
    "df = pd.read_csv('assignment_3_dataset.csv')\n",
    "\n",
    "# Display all rows nicely\n",
    "from IPython.display import display\n",
    "display(\n",
    "    df.style.set_table_styles([\n",
    "        {'selector': 'th', 'props': [('border', '1px solid black')]},\n",
    "        {'selector': 'td', 'props': [('border', '1px solid gray')]}\n",
    "    ])\n",
    ")\n"
   ]
  },
  {
   "cell_type": "markdown",
   "id": "b428c856",
   "metadata": {},
   "source": [
    "## Missing Values\n",
    "- Columns with missing values: ...\n",
    "- Decide how to handle them: drop rows, fill with mean/median, etc."
   ]
  },
  {
   "cell_type": "code",
   "execution_count": 37,
   "id": "3df8a3dd",
   "metadata": {},
   "outputs": [
    {
     "data": {
      "text/plain": [
       "Unnamed: 0    0\n",
       "person        0\n",
       "lang          0\n",
       "z1000t        5\n",
       "z0t           0\n",
       "z1000mem      0\n",
       "stmtL         3\n",
       "z1000rel      0\n",
       "m1000rel      0\n",
       "whours        3\n",
       "caps          2\n",
       "dtype: int64"
      ]
     },
     "execution_count": 37,
     "metadata": {},
     "output_type": "execute_result"
    }
   ],
   "source": [
    "df.isna().sum()"
   ]
  },
  {
   "cell_type": "code",
   "execution_count": 38,
   "id": "33827e7a",
   "metadata": {},
   "outputs": [
    {
     "name": "stdout",
     "output_type": "stream",
     "text": [
      "C:\\Users\\isakk\\AppData\\Local\\Microsoft\\WindowsApps\\PythonSoftwareFoundation.Python.3.11_qbz5n2kfra8p0\\python.exe\n"
     ]
    }
   ],
   "source": [
    "import sys\n",
    "print(sys.executable)\n"
   ]
  }
 ],
 "metadata": {
  "kernelspec": {
   "display_name": "Python 3",
   "language": "python",
   "name": "python3"
  },
  "language_info": {
   "codemirror_mode": {
    "name": "ipython",
    "version": 3
   },
   "file_extension": ".py",
   "mimetype": "text/x-python",
   "name": "python",
   "nbconvert_exporter": "python",
   "pygments_lexer": "ipython3",
   "version": "3.13.3"
  }
 },
 "nbformat": 4,
 "nbformat_minor": 5
}
